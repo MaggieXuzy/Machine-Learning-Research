{
 "cells": [
  {
   "cell_type": "code",
   "execution_count": 15,
   "id": "254459f4",
   "metadata": {},
   "outputs": [
    {
     "name": "stdout",
     "output_type": "stream",
     "text": [
      "[1 2 3 4 5]\n"
     ]
    }
   ],
   "source": [
    "#define a numpy array\n",
    "import numpy as np\n",
    "my_array = np.array([1,2,3,4,5])\n",
    "print(my_array)\n",
    "#  np.array([])"
   ]
  },
  {
   "cell_type": "code",
   "execution_count": 16,
   "id": "5f79f88d",
   "metadata": {},
   "outputs": [
    {
     "name": "stdout",
     "output_type": "stream",
     "text": [
      "(5,)\n",
      "1\n",
      "2\n",
      "[-1  2  3  4  5]\n"
     ]
    }
   ],
   "source": [
    "# <variable>.shape\n",
    "\n",
    "my_array = np.array([1,2,3,4,5])\n",
    "print(my_array.shape) #(5,)-->an array contains five elements\n",
    "print(my_array[0])\n",
    "print(my_array[1])\n",
    "my_array[0]=-1\n",
    "print(my_array)"
   ]
  },
  {
   "cell_type": "code",
   "execution_count": 17,
   "id": "ac93afa9",
   "metadata": {},
   "outputs": [
    {
     "name": "stdout",
     "output_type": "stream",
     "text": [
      "[0. 0. 0. 0. 0.]\n",
      "[1. 1. 1. 1. 1.]\n"
     ]
    }
   ],
   "source": [
    "# construct a numpy array that has 5 elements, which are all zeros\n",
    "# np.zeros((length))\n",
    "# np.ones((length))\n",
    "\n",
    "zero_array=np.zeros((5))\n",
    "print(zero_array)\n",
    "\n",
    "one_array=np.ones((5))\n",
    "print(one_array)\n"
   ]
  },
  {
   "cell_type": "code",
   "execution_count": 18,
   "id": "d1f60e30",
   "metadata": {},
   "outputs": [
    {
     "name": "stdout",
     "output_type": "stream",
     "text": [
      "[0.9114747  0.79272159 0.34192159 0.9870325  0.7706549 ]\n"
     ]
    }
   ],
   "source": [
    "#construct a random array\n",
    "# np.random.random((length))\n",
    "\n",
    "random_array=np.random.random((5))\n",
    "print(random_array)"
   ]
  },
  {
   "cell_type": "code",
   "execution_count": 25,
   "id": "43cc1605",
   "metadata": {},
   "outputs": [
    {
     "name": "stdout",
     "output_type": "stream",
     "text": [
      "[[4 5]\n",
      " [6 1]]\n",
      "5\n",
      "[5 1]\n",
      "[[6 1]]\n"
     ]
    }
   ],
   "source": [
    "#construct a 2D array\n",
    "my_2d_array=np.array([[4,5],[6,1]]) #2 rows 3 columns\n",
    "print(my_2d_array)\n",
    "print(my_2d_array[0][1])\n",
    "\n",
    "# get all second columns\n",
    "column_2=my_2d_array[:,1]\n",
    "print(column_2)\n",
    "# get all second rows\n",
    "column_2=my_2d_array[1]\n",
    "print(column_2)"
   ]
  },
  {
   "cell_type": "code",
   "execution_count": 27,
   "id": "6ae31b5b",
   "metadata": {},
   "outputs": [
    {
     "name": "stdout",
     "output_type": "stream",
     "text": [
      "sum is:  [[ 6.  8.]\n",
      " [10. 12.]]\n",
      "difference is:  [[-4. -4.]\n",
      " [-4. -4.]]\n",
      "product is:  [[ 5. 12.]\n",
      " [21. 32.]]\n",
      "quotient is:  [[0.2        0.33333333]\n",
      " [0.42857143 0.5       ]]\n",
      "matrix product is:  [[19. 22.]\n",
      " [43. 50.]]\n"
     ]
    }
   ],
   "source": [
    "# mathematical operations\n",
    "\n",
    "a=np.array([[1.0,2.0],[3.0,4.0]])\n",
    "b=np.array([[5.0,6.0],[7.0,8.0]])\n",
    "\n",
    "total=a+b\n",
    "difference=a-b\n",
    "product=a*b #不是矩阵乘法\n",
    "quotient=a/b\n",
    "\n",
    "print(\"sum is: \",total)\n",
    "print(\"difference is: \",difference)\n",
    "print(\"product is: \",product)\n",
    "print(\"quotient is: \",quotient)\n",
    "\n",
    "matrix_product=a.dot(b)  #scalar\n",
    "print(\"matrix product is: \",matrix_product)"
   ]
  },
  {
   "cell_type": "code",
   "execution_count": 31,
   "id": "4a88304e",
   "metadata": {},
   "outputs": [
    {
     "name": "stdout",
     "output_type": "stream",
     "text": [
      "[[ 10  63   3  17   6]\n",
      " [ 61  85   9   9  54]\n",
      " [ 14 103  17  68  77]\n",
      " [ 58  51  23  71  43]\n",
      " [ 76  24  78  67 102]]\n",
      "[[-10 -61   1 -11   2]\n",
      " [-51 -73   5   7 -36]\n",
      " [  6 -81   7 -42 -49]\n",
      " [-28 -19  11 -35  -5]\n",
      " [-36  18 -34 -21 -54]]\n",
      "[[   0   62    2   42    8]\n",
      " [ 280  474   14    8  405]\n",
      " [  40 1012   60  715  882]\n",
      " [ 645  560  102  954  456]\n",
      " [1120   63 1232 1012 1872]]\n",
      "[[0.         0.01612903 2.         0.21428571 2.        ]\n",
      " [0.08928571 0.07594937 3.5        8.         0.2       ]\n",
      " [2.5        0.11956522 2.4        0.23636364 0.22222222]\n",
      " [0.34883721 0.45714286 2.83333333 0.33962264 0.79166667]\n",
      " [0.35714286 7.         0.39285714 0.52272727 0.30769231]]\n",
      "[[  0   1   4   9  16]\n",
      " [ 25  36  49  64  81]\n",
      " [100 121 144 169 196]\n",
      " [225 256 289 324 361]\n",
      " [400 441 484 529 576]]\n",
      "[[ True  True False  True False]\n",
      " [ True  True False False  True]\n",
      " [False  True False  True  True]\n",
      " [ True  True False  True  True]\n",
      " [ True False  True  True  True]]\n",
      "[[False False  True False  True]\n",
      " [False False  True  True False]\n",
      " [ True False  True False False]\n",
      " [False False  True False False]\n",
      " [False  True False False False]]\n",
      "[[ 417  380  254  446  555]\n",
      " [1262 1735  604 1281 1615]\n",
      " [2107 3090  954 2116 2675]\n",
      " [2952 4445 1304 2951 3735]\n",
      " [3797 5800 1654 3786 4795]]\n"
     ]
    }
   ],
   "source": [
    "a = np.arange(25)\n",
    "a = a.reshape((5, 5))\n",
    "\n",
    "b = np.array([10, 62, 1, 14, 2, 56, 79, 2, 1, 45,\n",
    "              4, 92, 5, 55, 63, 43, 35, 6, 53, 24,\n",
    "              56, 3, 56, 44, 78])\n",
    "b = b.reshape((5,5))\n",
    "\n",
    "print(a + b)\n",
    "print(a - b)\n",
    "print(a * b)\n",
    "print(a / b)\n",
    "print(a ** 2)\n",
    "print(a < b) \n",
    "print(a > b)\n",
    "\n",
    "print(a.dot(b))"
   ]
  },
  {
   "cell_type": "code",
   "execution_count": 33,
   "id": "232d88dd",
   "metadata": {},
   "outputs": [
    {
     "name": "stdout",
     "output_type": "stream",
     "text": [
      "[0 1 2 3 4 5 6 7 8 9]\n",
      "45\n",
      "0\n",
      "9\n",
      "[ 0  1  3  6 10 15 21 28 36 45]\n"
     ]
    }
   ],
   "source": [
    "# dot, sum, min, max, cumsum\n",
    "a = np.arange(10)\n",
    "\n",
    "print(a)\n",
    "print(a.sum()) # >>>45\n",
    "print(a.min()) # >>>0\n",
    "print(a.max()) # >>>9\n",
    "print(a.cumsum()) # >>>[ 0  1  3  6 10 15 21 28 36 45]"
   ]
  },
  {
   "cell_type": "code",
   "execution_count": 34,
   "id": "aad51247",
   "metadata": {},
   "outputs": [
    {
     "name": "stdout",
     "output_type": "stream",
     "text": [
      "[ 0 10 20 30 40 50 60 70 80 90]\n",
      "[10 50 90]\n"
     ]
    }
   ],
   "source": [
    "# Fancy indexing\n",
    "a = np.arange(0, 100, 10)\n",
    "indices = [1, 5, -1]\n",
    "b = a[indices]\n",
    "print(a) # >>>[ 0 10 20 30 40 50 60 70 80 90]\n",
    "print(b) # >>>[10 50 90]"
   ]
  },
  {
   "cell_type": "code",
   "execution_count": 48,
   "id": "fb8cde4c",
   "metadata": {},
   "outputs": [
    {
     "name": "stdout",
     "output_type": "stream",
     "text": [
      "[0.         0.12822827 0.25645654 0.38468481 0.51291309 0.64114136\n",
      " 0.76936963 0.8975979  1.02582617 1.15405444 1.28228272 1.41051099\n",
      " 1.53873926 1.66696753 1.7951958  1.92342407 2.05165235 2.17988062\n",
      " 2.30810889 2.43633716 2.56456543 2.6927937  2.82102197 2.94925025\n",
      " 3.07747852 3.20570679 3.33393506 3.46216333 3.5903916  3.71861988\n",
      " 3.84684815 3.97507642 4.10330469 4.23153296 4.35976123 4.48798951\n",
      " 4.61621778 4.74444605 4.87267432 5.00090259 5.12913086 5.25735913\n",
      " 5.38558741 5.51381568 5.64204395 5.77027222 5.89850049 6.02672876\n",
      " 6.15495704 6.28318531]\n"
     ]
    },
    {
     "data": {
      "image/png": "[encoded data removed]",
      "text/plain": [
       "<Figure size 432x288 with 1 Axes>"
      ]
     },
     "metadata": {
      "needs_background": "light"
     },
     "output_type": "display_data"
    }
   ],
   "source": [
    "# Boolean masking\n",
    "import matplotlib.pyplot as plt\n",
    "\n",
    "a = np.linspace(0, 2 * np.pi, 50)\n",
    "print(a)\n",
    "b = np.sin(a)\n",
    "plt.plot(a,b,'k')\n",
    "mask = b >= 0\n",
    "plt.plot(a[mask], b[mask], 'b.')\n",
    "mask = (b >= 0) & (a <= np.pi / 2)\n",
    "plt.plot(a[mask], b[mask], 'g.')\n",
    "plt.show()"
   ]
  },
  {
   "cell_type": "code",
   "execution_count": 50,
   "id": "c1b562c7",
   "metadata": {},
   "outputs": [
    {
     "name": "stdout",
     "output_type": "stream",
     "text": [
      "[ 0 10 20 30 40 50 60 70 80 90]\n",
      "(array([0, 1, 2, 3, 4], dtype=int64),)\n",
      "[5 6 7 8 9]\n"
     ]
    }
   ],
   "source": [
    "# Where\n",
    "a = np.arange(0, 100, 10)\n",
    "b = np.where(a < 50) \n",
    "c = np.where(a >= 50)[0]\n",
    "print(a)\n",
    "print(b) # >>>(array([0, 1, 2, 3, 4]),)\n",
    "print(c) # >>>[5 6 7 8 9]"
   ]
  },
  {
   "cell_type": "code",
   "execution_count": null,
   "id": "71f35648",
   "metadata": {},
   "outputs": [],
   "source": []
  }
 ],
 "metadata": {
  "kernelspec": {
   "display_name": "Python 3 (ipykernel)",
   "language": "python",
   "name": "python3"
  },
  "language_info": {
   "codemirror_mode": {
    "name": "ipython",
    "version": 3
   },
   "file_extension": ".py",
   "mimetype": "text/x-python",
   "name": "python",
   "nbconvert_exporter": "python",
   "pygments_lexer": "ipython3",
   "version": "3.9.7"
  }
 },
 "nbformat": 4,
 "nbformat_minor": 5
}
